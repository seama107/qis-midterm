{
 "cells": [
  {
   "cell_type": "code",
   "execution_count": 1,
   "metadata": {
    "collapsed": false,
    "deletable": true,
    "editable": true
   },
   "outputs": [],
   "source": [
    "import numpy as np\n",
    "import matplotlib.pyplot as plt\n",
    "%matplotlib inline\n",
    "from bellStates import *"
   ]
  },
  {
   "cell_type": "markdown",
   "metadata": {},
   "source": [
    "# QIS Project 1\n",
    "## Michael Seaman\n",
    "3/6/17"
   ]
  },
  {
   "cell_type": "markdown",
   "metadata": {},
   "source": [
    "Simulating the output of a CHSH Bell test, with tunable angles.\n",
    "a 2-qubit Bell state: $ |\\Psi^+>=\\frac{1}{\\sqrt{2}}(|00> + |11>) $\n",
    "\n",
    "Operator $ \\hat{O} $ is composed of $ O_{\\theta_{1}} \\times O_{\\theta_{2}} $\n",
    "\n",
    "Because we proved the following in HW 4:\n",
    "$$ P(v_1, v_2) = P(v^\\bot_1, v^\\bot_2) = \\frac{1}{2}\\cos^2{(\\theta_1 - \\theta_2)} $$\n",
    "\n",
    "\n",
    "$$ P(v^\\bot_1, v_2) = P(v_1, v^\\bot_2) = \\frac{1}{2}\\sin^2{(\\theta_1 - \\theta_2)} $$\n",
    "\n",
    "We can easily calculate the probabilities of each possible 2-qubit outcome. For example, for $ \\frac{\\theta_1}{2} - \\frac{\\theta_2}{2} = \\frac{\\pi}{4} $, we get the probabilities of |00>, |01>, |10>, and |11> respectively."
   ]
  },
  {
   "cell_type": "code",
   "execution_count": 2,
   "metadata": {
    "collapsed": false
   },
   "outputs": [
    {
     "name": "stdout",
     "output_type": "stream",
     "text": [
      "Probabilites:\n",
      "[ 0.4267767  0.0732233  0.0732233  0.4267767]\n"
     ]
    },
    {
     "data": {
      "text/plain": [
       "array([[1, 1]])"
      ]
     },
     "execution_count": 2,
     "metadata": {},
     "output_type": "execute_result"
    }
   ],
   "source": [
    "print(\"Probabilites:\")\n",
    "generate_CHSH_pairs(1, theta1=np.pi/4.0, theta2=0, printProbDist=True)"
   ]
  },
  {
   "cell_type": "markdown",
   "metadata": {},
   "source": [
    "Because of this, we can trivially generate eigenstates for any value of $ \\theta $. We become particularly interested in the following ensembles:\n",
    "$$ A=O_{\\theta_1}(0)O_{\\theta_2}(\\frac{\\pi}{4}) \\\\\n",
    "B=O_{\\theta_1}(0)O_{\\theta_2}(\\frac{-\\pi}{4}) \\\\\n",
    "C=O_{\\theta_1}(\\frac{\\pi}{2})O_{\\theta_2}(\\frac{\\pi}{4}) \\\\\n",
    "D=O_{\\theta_1}(\\frac{\\pi}{2})O_{\\theta_2}(\\frac{-\\pi}{4}) $$\n",
    "\n",
    "Generating n = 10000000 of each pair, we can find the average product for each case."
   ]
  },
  {
   "cell_type": "code",
   "execution_count": 3,
   "metadata": {
    "collapsed": false
   },
   "outputs": [
    {
     "name": "stdout",
     "output_type": "stream",
     "text": [
      "Average A: 0.706985, Average B: 0.706856, Average C: 0.706969, Average D: -0.706985\n"
     ]
    }
   ],
   "source": [
    "n = int(1e7)\n",
    "ave_A = np.average(pair_v_to_prod_v(generate_ensemble_A(n, 0)))\n",
    "ave_B = np.average(pair_v_to_prod_v(generate_ensemble_B(n, 0)))\n",
    "ave_C = np.average(pair_v_to_prod_v(generate_ensemble_C(n, 0)))\n",
    "ave_D = np.average(pair_v_to_prod_v(generate_ensemble_D(n, 0)))\n",
    "\n",
    "print(\"Average A: %f, Average B: %f, Average C: %f, Average D: %f\" % (ave_A, ave_B, ave_C, ave_D))"
   ]
  },
  {
   "cell_type": "markdown",
   "metadata": {},
   "source": [
    "And we can see that the sum of these averages according to the CHSH prescription approaches $ 2\\sqrt{2} $."
   ]
  },
  {
   "cell_type": "code",
   "execution_count": 4,
   "metadata": {
    "collapsed": false
   },
   "outputs": [
    {
     "name": "stdout",
     "output_type": "stream",
     "text": [
      "Sum: 2.827796\n",
      "2rad2 = 2.828427\n"
     ]
    }
   ],
   "source": [
    "total = ave_A + ave_B + ave_C - ave_D\n",
    "print(\"Sum: %f\" % (total))\n",
    "print(\"2rad2 = %f\" % (2*np.sqrt(2)))"
   ]
  },
  {
   "cell_type": "markdown",
   "metadata": {},
   "source": [
    "Now, we can shift our angles by $ \\phi $ in the ensembles A, B, C, and D s.t.\n",
    "$$ A=O_{\\theta_1}(0)O_{\\theta_2}(\\frac{\\pi}{4} + \\phi) \\\\\n",
    "B=O_{\\theta_1}(0)O_{\\theta_2}(\\frac{-\\pi}{4} + \\phi) \\\\\n",
    "C=O_{\\theta_1}(\\frac{\\pi}{2})O_{\\theta_2}(\\frac{\\pi}{4} + \\phi) \\\\\n",
    "D=O_{\\theta_1}(\\frac{\\pi}{2})O_{\\theta_2}(\\frac{-\\pi}{4} + \\phi) $$\n",
    "\n",
    "Let's see the output of this correlator as a function of $ \\phi $ in steps of $ \\frac{\\pi}{16} $:"
   ]
  },
  {
   "cell_type": "code",
   "execution_count": 14,
   "metadata": {
    "collapsed": false
   },
   "outputs": [
    {
     "data": {
      "image/png": "[encoded data removed]",
      "text/plain": [
       "<matplotlib.figure.Figure at 0x112b9fa58>"
      ]
     },
     "metadata": {},
     "output_type": "display_data"
    }
   ],
   "source": [
    "n = int(1e5)\n",
    "phi_mesh = np.linspace(0, 2*np.pi, 33)\n",
    "\n",
    "generate_correlator_v = np.vectorize(generate_correlator, excluded=['n'])\n",
    "corr = generate_correlator_v(n, phi_mesh)\n",
    "\n",
    "plt.plot(phi_mesh, corr, 'r')\n",
    "plt.title(\"Correlator output vs phi\")\n",
    "plt.xlabel(\"phi\")\n",
    "plt.ylabel(\"Correlator\")\n",
    "plt.grid(True)\n",
    "plt.show()"
   ]
  },
  {
   "cell_type": "markdown",
   "metadata": {},
   "source": [
    "Because the definitions for A, B, C, D, we should be expecting an output graph that resmbles a sine wave, which we do get as shown above."
   ]
  }
 ],
 "metadata": {
  "kernelspec": {
   "display_name": "Python 3",
   "language": "python",
   "name": "python3"
  },
  "language_info": {
   "codemirror_mode": {
    "name": "ipython",
    "version": 3
   },
   "file_extension": ".py",
   "mimetype": "text/x-python",
   "name": "python",
   "nbconvert_exporter": "python",
   "pygments_lexer": "ipython3",
   "version": "3.5.1"
  }
 },
 "nbformat": 4,
 "nbformat_minor": 2
}
